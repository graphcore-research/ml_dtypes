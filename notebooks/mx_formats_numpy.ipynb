{
 "cells": [
  {
   "cell_type": "code",
   "execution_count": 4,
   "id": "d3127985-e763-4529-b8c2-0e0fc2971855",
   "metadata": {},
   "outputs": [],
   "source": []
  },
  {
   "cell_type": "code",
   "execution_count": null,
   "id": "ba431159-8091-4b37-becf-83dcd72fba46",
   "metadata": {},
   "outputs": [],
   "source": []
  },
  {
   "cell_type": "code",
   "execution_count": 90,
   "id": "2aa4849d-b47b-4be8-af32-d5a2573eec7f",
   "metadata": {},
   "outputs": [
    {
     "name": "stdout",
     "output_type": "stream",
     "text": [
      "MX Dtype info: float8_e4m3fn 32\n"
     ]
    }
   ],
   "source": [
    "import numpy as np\n",
    "import ml_dtypes\n",
    "\n",
    "def create_mx_dtype(data_dtype, block_size: int):\n",
    "    return np.dtype([('data', data_dtype, (block_size,)), ('scale', np.int8, ())])\n",
    "\n",
    "def mx_dtype_block_size(mx_dtype):\n",
    "    assert mx_dtype.fields.keys() == {\"data\", \"scale\"}\n",
    "    data_dtype = mx_dtype.fields[\"data\"][0]\n",
    "    return data_dtype.shape[0]\n",
    "\n",
    "def mx_dtype_data_dtype(mx_dtype):\n",
    "    assert mx_dtype.fields.keys() == {\"data\", \"scale\"}\n",
    "    return mx_dtype.fields[\"data\"][0].base\n",
    "\n",
    "\n",
    "mx_float8_e4m3fn = create_mx_dtype(ml_dtypes.float8_e4m3fn, 32)\n",
    "mx_float8_e5m2fnuz = create_mx_dtype(ml_dtypes.float8_e5m2fnuz, 32)\n",
    "mx_int8 = create_mx_dtype(np.int8, 32)\n",
    "\n",
    "print(\"MX Dtype info:\", mx_dtype_data_dtype(mx_float8_e4m3fn), mx_dtype_block_size(mx_float8_e4m3fn))"
   ]
  },
  {
   "cell_type": "code",
   "execution_count": null,
   "id": "0e2cee83-57e8-4b4e-885d-ad95bc2ef68f",
   "metadata": {},
   "outputs": [],
   "source": []
  },
  {
   "cell_type": "code",
   "execution_count": 92,
   "id": "b8012372-65bc-4c7b-8a6f-7d62002aff73",
   "metadata": {},
   "outputs": [
    {
     "data": {
      "text/plain": [
       "numpy.dtypes.VoidDType"
      ]
     },
     "execution_count": 92,
     "metadata": {},
     "output_type": "execute_result"
    }
   ],
   "source": [
    "type(mx_int8)"
   ]
  },
  {
   "cell_type": "code",
   "execution_count": 104,
   "id": "80585809-1122-4641-833d-f17c15d8ff84",
   "metadata": {},
   "outputs": [],
   "source": [
    "arr = np.zeros((2, 3), mx_float8_e4m3fn)"
   ]
  },
  {
   "cell_type": "code",
   "execution_count": 110,
   "id": "dd92b208-3bc0-4025-afae-ee2bc83e29af",
   "metadata": {},
   "outputs": [
    {
     "data": {
      "text/plain": [
       "(2, 3, 32)"
      ]
     },
     "execution_count": 110,
     "metadata": {},
     "output_type": "execute_result"
    }
   ],
   "source": [
    "arr[\"data\"].shape"
   ]
  },
  {
   "cell_type": "code",
   "execution_count": 114,
   "id": "7a45c7cb-45b3-4573-a924-5c6bd2137ba1",
   "metadata": {},
   "outputs": [],
   "source": [
    "arr[\"scale\"] = 1"
   ]
  },
  {
   "cell_type": "code",
   "execution_count": 126,
   "id": "4cb14308-27e8-4a56-8efe-863d885ede98",
   "metadata": {},
   "outputs": [
    {
     "data": {
      "text/plain": [
       "array([[[0, 0, 0, 0, 0, 0, 0, 0, 0, 0, 0, 0, 0, 0, 0, 0, 0, 0, 0, 0, 0,\n",
       "         0, 0, 0, 0, 0, 0, 0, 0, 0, 0, 0, 1],\n",
       "        [0, 0, 0, 0, 0, 0, 0, 0, 0, 0, 0, 0, 0, 0, 0, 0, 0, 0, 0, 0, 0,\n",
       "         0, 0, 0, 0, 0, 0, 0, 0, 0, 0, 0, 1],\n",
       "        [0, 0, 0, 0, 0, 0, 0, 0, 0, 0, 0, 0, 0, 0, 0, 0, 0, 0, 0, 0, 0,\n",
       "         0, 0, 0, 0, 0, 0, 0, 0, 0, 0, 0, 1]],\n",
       "\n",
       "       [[0, 0, 0, 0, 0, 0, 0, 0, 0, 0, 0, 0, 0, 0, 0, 0, 0, 0, 0, 0, 0,\n",
       "         0, 0, 0, 0, 0, 0, 0, 0, 0, 0, 0, 1],\n",
       "        [0, 0, 0, 0, 0, 0, 0, 0, 0, 0, 0, 0, 0, 0, 0, 0, 0, 0, 0, 0, 0,\n",
       "         0, 0, 0, 0, 0, 0, 0, 0, 0, 0, 0, 1],\n",
       "        [0, 0, 0, 0, 0, 0, 0, 0, 0, 0, 0, 0, 0, 0, 0, 0, 0, 0, 0, 0, 0,\n",
       "         0, 0, 0, 0, 0, 0, 0, 0, 0, 0, 0, 1]]], dtype='float8_e4m3fn')"
      ]
     },
     "execution_count": 126,
     "metadata": {},
     "output_type": "execute_result"
    }
   ],
   "source": [
    "rfn.structured_to_unstructured(arr)"
   ]
  },
  {
   "cell_type": "code",
   "execution_count": 122,
   "id": "02c1a0aa-3557-4d79-bff9-0ce0ad859de1",
   "metadata": {},
   "outputs": [],
   "source": [
    "from numpy.lib import recfunctions as rfn"
   ]
  },
  {
   "cell_type": "code",
   "execution_count": null,
   "id": "581d54b0-4246-49ee-9a47-e1d7f369d413",
   "metadata": {},
   "outputs": [],
   "source": []
  }
 ],
 "metadata": {
  "kernelspec": {
   "display_name": "Python 3 (ipykernel)",
   "language": "python",
   "name": "python3"
  },
  "language_info": {
   "codemirror_mode": {
    "name": "ipython",
    "version": 3
   },
   "file_extension": ".py",
   "mimetype": "text/x-python",
   "name": "python",
   "nbconvert_exporter": "python",
   "pygments_lexer": "ipython3",
   "version": "3.10.12"
  }
 },
 "nbformat": 4,
 "nbformat_minor": 5
}
